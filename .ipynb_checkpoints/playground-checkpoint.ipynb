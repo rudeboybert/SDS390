{
 "cells": [
  {
   "cell_type": "markdown",
   "id": "0eb9f11f",
   "metadata": {},
   "source": [
    "# Manipulating Time Series Data in Python"
   ]
  },
  {
   "cell_type": "code",
   "execution_count": 2,
   "id": "8ffe1ac9",
   "metadata": {},
   "outputs": [
    {
     "name": "stdout",
     "output_type": "stream",
     "text": [
      "6 Sunday\n",
      "0 Monday\n",
      "1 Tuesday\n",
      "2 Wednesday\n",
      "3 Thursday\n",
      "4 Friday\n",
      "5 Saturday\n"
     ]
    }
   ],
   "source": [
    "import pandas as pd\n",
    "\n",
    "# Create the range of dates here\n",
    "seven_days = pd.date_range(start = '2017-1-1', periods=7, freq='D')\n",
    "\n",
    "# Iterate over the dates and print the number and name of the weekday\n",
    "for day in seven_days:\n",
    "    print(day.dayofweek, day.day_name())\n"
   ]
  },
  {
   "cell_type": "code",
   "execution_count": null,
   "id": "9c65acd8",
   "metadata": {},
   "outputs": [],
   "source": []
  }
 ],
 "metadata": {
  "kernelspec": {
   "display_name": "Python 3 (ipykernel)",
   "language": "python",
   "name": "python3"
  },
  "language_info": {
   "codemirror_mode": {
    "name": "ipython",
    "version": 3
   },
   "file_extension": ".py",
   "mimetype": "text/x-python",
   "name": "python",
   "nbconvert_exporter": "python",
   "pygments_lexer": "ipython3",
   "version": "3.9.13"
  }
 },
 "nbformat": 4,
 "nbformat_minor": 5
}
