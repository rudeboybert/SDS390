{
 "cells": [
  {
   "cell_type": "markdown",
   "id": "a0f6276e",
   "metadata": {
    "colab_type": "text",
    "id": "view-in-github"
   },
   "source": [
    "<a href=\"https://colab.research.google.com/github/rudeboybert/SDS390/blob/master/PS/PS01.ipynb\" target=\"_parent\"><img src=\"https://colab.research.google.com/assets/colab-badge.svg\" alt=\"Open In Colab\"/></a>"
   ]
  },
  {
   "cell_type": "markdown",
   "id": "6f6444dd",
   "metadata": {
    "id": "6f6444dd"
   },
   "source": [
    "# Problem Set 01\n",
    "1. Name:\n",
    "1. Field that you're interested in applying TS and forecasting to (ecology, econ, weather, etc):"
   ]
  },
  {
   "cell_type": "markdown",
   "id": "558f9417",
   "metadata": {
    "id": "558f9417"
   },
   "source": [
    "# Obtain a CSV of time series data\n",
    "1. By whatever means, get a `.csv` file of time series data relating to any topic: ecological, financial, etc.\n",
    "1. There should be at least three variables of data\n",
    "1. If you download from the web, include a link. If you use ChatGPT, include a link to your shared search"
   ]
  },
  {
   "cell_type": "code",
   "execution_count": null,
   "id": "8b655721",
   "metadata": {
    "id": "8b655721"
   },
   "outputs": [],
   "source": [
    "import pandas as pd\n",
    "import matplotlib.pyplot as plt\n",
    "import requests\n",
    "import pandas as pd"
   ]
  },
  {
   "cell_type": "code",
   "execution_count": null,
   "id": "9dbd683b",
   "metadata": {
    "id": "9dbd683b"
   },
   "outputs": [],
   "source": []
  },
  {
   "cell_type": "markdown",
   "id": "329b900f",
   "metadata": {
    "id": "329b900f"
   },
   "source": [
    "# 1. Time series plots\n",
    "1. Plot the raw time series data\n",
    "1. Identify any obvious patterns in your time series\n",
    "1. Identify, if any, interesting insights these patterns suggest"
   ]
  },
  {
   "cell_type": "code",
   "execution_count": null,
   "id": "c62846a8",
   "metadata": {
    "id": "c62846a8"
   },
   "outputs": [],
   "source": []
  },
  {
   "cell_type": "markdown",
   "id": "b89aad1a",
   "metadata": {
    "id": "b89aad1a"
   },
   "source": [
    "# 2. Scatterplots\n",
    "1. Plot a 3x3 grid of all pairwise scatterplots\n",
    "1. Identify, if any, interesting trends or insight"
   ]
  },
  {
   "cell_type": "code",
   "execution_count": null,
   "id": "7fd18504",
   "metadata": {
    "id": "7fd18504"
   },
   "outputs": [],
   "source": []
  },
  {
   "cell_type": "markdown",
   "id": "366ad9de",
   "metadata": {
    "id": "366ad9de"
   },
   "source": [
    "# 3. Lag & autocorrelation plots\n",
    "1. Plot a lag plot of any variable of your choice to *visualize* its relationship to itself in the past for all values of $k$ between 1 and a maximum $k$. Use a maximum $k$ value of your choice\n",
    "1. Plot an autocorrelation plot of this same variable to *quantify* its relationship to itself in the past for all values of $k$ between 1 and a maximum $k$. Use a maximum $k$ value of your choice\n",
    "1. Identify, if any, interesting insight from these lag plots"
   ]
  },
  {
   "cell_type": "code",
   "execution_count": null,
   "id": "b6f19d29",
   "metadata": {
    "id": "b6f19d29"
   },
   "outputs": [],
   "source": []
  }
 ],
 "metadata": {
  "colab": {
   "include_colab_link": true,
   "provenance": []
  },
  "kernelspec": {
   "display_name": "Python 3 (ipykernel)",
   "language": "python",
   "name": "python3"
  },
  "language_info": {
   "codemirror_mode": {
    "name": "ipython",
    "version": 3
   },
   "file_extension": ".py",
   "mimetype": "text/x-python",
   "name": "python",
   "nbconvert_exporter": "python",
   "pygments_lexer": "ipython3",
   "version": "3.9.13"
  }
 },
 "nbformat": 4,
 "nbformat_minor": 5
}
