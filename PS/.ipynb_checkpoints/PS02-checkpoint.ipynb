{
 "cells": [
  {
   "cell_type": "markdown",
   "id": "a0f6276e",
   "metadata": {
    "colab_type": "text",
    "id": "view-in-github"
   },
   "source": [
    "<a href=\"https://colab.research.google.com/github/rudeboybert/SDS390/blob/master/PS/PS01.ipynb\" target=\"_parent\"><img src=\"https://colab.research.google.com/assets/colab-badge.svg\" alt=\"Open In Colab\"/></a>"
   ]
  },
  {
   "cell_type": "markdown",
   "id": "6f6444dd",
   "metadata": {
    "id": "6f6444dd"
   },
   "source": [
    "# Problem Set 02\n",
    "Notes:\n",
    "1. If you download from the web, include a link. \n",
    "1. Include any CSV files so that this code is replicable\n",
    "1. If you use ChatGPT, include a link to your shared search"
   ]
  },
  {
   "cell_type": "code",
   "execution_count": null,
   "id": "8b655721",
   "metadata": {
    "id": "8b655721"
   },
   "outputs": [],
   "source": [
    "import pandas as pd\n",
    "import matplotlib.pyplot as plt\n",
    "import requests\n",
    "import pandas as pd"
   ]
  },
  {
   "cell_type": "markdown",
   "id": "329b900f",
   "metadata": {
    "id": "329b900f"
   },
   "source": [
    "# 1. Moving Averages\n",
    "1. Plot the raw time series data\n",
    "1. Identify any obvious patterns in your time series\n",
    "1. Identify, if any, interesting insights these patterns suggest"
   ]
  },
  {
   "cell_type": "code",
   "execution_count": null,
   "id": "c62846a8",
   "metadata": {
    "id": "c62846a8"
   },
   "outputs": [],
   "source": []
  },
  {
   "cell_type": "markdown",
   "id": "b89aad1a",
   "metadata": {
    "id": "b89aad1a"
   },
   "source": [
    "# 2. Decomposition Plots\n",
    "1. Plot a 3x3 grid of all pairwise scatterplots\n",
    "1. Identify, if any, interesting trends or insight"
   ]
  },
  {
   "cell_type": "code",
   "execution_count": null,
   "id": "7fd18504",
   "metadata": {
    "id": "7fd18504"
   },
   "outputs": [],
   "source": []
  }
 ],
 "metadata": {
  "colab": {
   "include_colab_link": true,
   "provenance": []
  },
  "kernelspec": {
   "display_name": "Python 3 (ipykernel)",
   "language": "python",
   "name": "python3"
  },
  "language_info": {
   "codemirror_mode": {
    "name": "ipython",
    "version": 3
   },
   "file_extension": ".py",
   "mimetype": "text/x-python",
   "name": "python",
   "nbconvert_exporter": "python",
   "pygments_lexer": "ipython3",
   "version": "3.9.13"
  }
 },
 "nbformat": 4,
 "nbformat_minor": 5
}
