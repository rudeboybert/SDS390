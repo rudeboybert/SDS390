{
 "cells": [
  {
   "cell_type": "markdown",
   "id": "0fafc9bc",
   "metadata": {},
   "source": [
    "# Final Project\n",
    "\n",
    "Instructions:\n",
    "1. Name:\n",
    "1. Create a new ChatGPT chat called \"Final Project\" that contains all the prompts you used for this problem set. **After you've completed your assignment**, click the share button and paste the URL in Markdown format [here](https://chat.openai.com/share/7b889388-3220-4005-9cba-ed1eacf28a45) (shared ChatGPT links don't auto-update with subsequent queries)."
   ]
  },
  {
   "cell_type": "markdown",
   "id": "102c7056",
   "metadata": {},
   "source": [
    "# Executive Summary\n",
    "- Take home message"
   ]
  },
  {
   "cell_type": "markdown",
   "id": "05ff4962",
   "metadata": {},
   "source": [
    "# Introduction\n",
    "\n",
    "- Context of data\n",
    "- source of data\n",
    "- any research questions"
   ]
  },
  {
   "cell_type": "markdown",
   "id": "2f85bd2e",
   "metadata": {},
   "source": [
    "# Exploratory Data Analysis \n",
    "- Data wrangling\n",
    "- Look at your data before fitting any models"
   ]
  },
  {
   "cell_type": "markdown",
   "id": "4b20b20d",
   "metadata": {},
   "source": [
    "# Forecasting and Modeling\n",
    "- Specify and estimate forecasts using no more than 4 different models\n",
    "- Visualize forecasts\n",
    "- Evaluate the forecasting accuracy of all models and compare\n",
    "- Forecast into the future using the model of your choice, justifying this choice"
   ]
  },
  {
   "cell_type": "markdown",
   "id": "5c5070c3",
   "metadata": {},
   "source": [
    "# Appendix\n",
    "\n",
    "- Optional: only if you feel like sharing a laugh or something cool\n",
    "- Stuff you tried that maybe that didn't work? Failure is a necessary condition to success thus we should encourage failures as much as we encourage successes"
   ]
  }
 ],
 "metadata": {
  "kernelspec": {
   "display_name": "Python 3 (ipykernel)",
   "language": "python",
   "name": "python3"
  },
  "language_info": {
   "codemirror_mode": {
    "name": "ipython",
    "version": 3
   },
   "file_extension": ".py",
   "mimetype": "text/x-python",
   "name": "python",
   "nbconvert_exporter": "python",
   "pygments_lexer": "ipython3",
   "version": "3.9.13"
  }
 },
 "nbformat": 4,
 "nbformat_minor": 5
}
