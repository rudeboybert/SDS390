{
 "cells": [
  {
   "cell_type": "markdown",
   "id": "0fafc9bc",
   "metadata": {},
   "source": [
    "# Final Project\n",
    "\n",
    "Instructions:\n",
    "1. Name:\n",
    "1. Create a new ChatGPT chat called \"Final Project\" that contains all the prompts you used for this problem set. **After you've completed your assignment**, click the share button and paste the URL in Markdown format [here](https://chat.openai.com/share/7b889388-3220-4005-9cba-ed1eacf28a45) (shared ChatGPT links don't auto-update with subsequent queries)."
   ]
  },
  {
   "cell_type": "markdown",
   "id": "102c7056",
   "metadata": {},
   "source": [
    "# Executive Summary\n",
    "- Take home message\n",
    "\n",
    "\n",
    "# Introduction\n",
    "\n",
    "- Context of data\n",
    "- source of data\n",
    "- any research questions\n",
    "\n",
    "# Exploratory Data Analysis \n",
    "- Tie to Tidy forecasting workflow \n",
    "- Data wrangling\n",
    "- EDA\n",
    "\n",
    "# Modeling\n",
    "\n",
    "# Appendix\n",
    "- Stuff you tried that maybe that didn't workl.\n",
    "- Failure is a necessary condition to success thus we should encourage failures as much as we encourage successes\n"
   ]
  }
 ],
 "metadata": {
  "kernelspec": {
   "display_name": "Python 3 (ipykernel)",
   "language": "python",
   "name": "python3"
  },
  "language_info": {
   "codemirror_mode": {
    "name": "ipython",
    "version": 3
   },
   "file_extension": ".py",
   "mimetype": "text/x-python",
   "name": "python",
   "nbconvert_exporter": "python",
   "pygments_lexer": "ipython3",
   "version": "3.9.13"
  }
 },
 "nbformat": 4,
 "nbformat_minor": 5
}
