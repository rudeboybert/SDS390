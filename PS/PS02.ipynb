{
 "cells": [
  {
   "cell_type": "markdown",
   "id": "ea640e18",
   "metadata": {
    "colab_type": "text",
    "id": "view-in-github"
   },
   "source": [
    "<a href=\"https://colab.research.google.com/github/rudeboybert/SDS390/blob/master/PS/PS02.ipynb\" target=\"_parent\"><img src=\"https://colab.research.google.com/assets/colab-badge.svg\" alt=\"Open In Colab\"/></a>"
   ]
  },
  {
   "cell_type": "markdown",
   "id": "6f6444dd",
   "metadata": {
    "id": "6f6444dd"
   },
   "source": [
    "# Problem Set 02\n",
    "\n",
    "Instructions:\n",
    "1. Name: \n",
    "1. Create a new ChatGPT chat called \"SDS390 PS02\" that contains all the prompts you used for this problem set, click the share button, and paste the URL in Markdown format [here](https://www.smith.edu/)"
   ]
  },
  {
   "cell_type": "code",
   "execution_count": 100,
   "id": "8b655721",
   "metadata": {
    "id": "8b655721"
   },
   "outputs": [],
   "source": [
    "import pandas as pd\n",
    "import matplotlib.pyplot as plt"
   ]
  },
  {
   "cell_type": "markdown",
   "id": "329b900f",
   "metadata": {
    "id": "329b900f"
   },
   "source": [
    "# 1. Load and explore data\n",
    "1. Load the CSV data of biweekly dendroband measures for tree with tag 82203\n",
    "1. Look at the raw data (rows and variables) and meta-data as Amir always told me to do\n",
    "1. Note that DBH is the only non-index variable we will work with, thus simplify the data frame to only have this variable\n",
    "1. Plot the time series of DBH (diameter at breast height, in mm) as we've done numerous times in DataCamp: just using `.plot()` with no arguments\n",
    "1. Now plot the time series where each of the 147 observed data point is marked with a dot. In other words, your plot should at the very least have these [points](https://github.com/rudeboybert/SDS390/blob/master/PS/tag_82203_plot.pdf).\n",
    "1. What is the difference in information presented between the two plots? \n",
    "1. Describe any patterns you observe in the time series where each observed data point is marked with a dot"
   ]
  },
  {
   "cell_type": "code",
   "execution_count": null,
   "id": "39cee931",
   "metadata": {},
   "outputs": [],
   "source": []
  },
  {
   "cell_type": "markdown",
   "id": "b89aad1a",
   "metadata": {
    "id": "b89aad1a"
   },
   "source": [
    "# 2. Decomposition Plots\n",
    "Create a seasonal decomposition plot of this data to answer the following questions:\n",
    "1. What is the approximate growth (in mm) per year trend for this tree\n",
    "1. What is the approximate range in seasonal variation in growth around this trend?\n",
    "1. When are the peaks and when are the valleys in this seasonal variation?\n",
    "1. Are there periods of time where we might be skeptical of the above trend and seasonality?\n",
    "\n",
    "Note: You may need to do some data transformation as seen in the first DataCamp course to get a valid plot"
   ]
  },
  {
   "cell_type": "code",
   "execution_count": null,
   "id": "8f241faf",
   "metadata": {},
   "outputs": [],
   "source": []
  },
  {
   "cell_type": "markdown",
   "id": "dc88edd8",
   "metadata": {},
   "source": [
    "# 3. Forecasting using an AR(2) model\n",
    "In this exercise you will use an AR(2) model as seen in the second datacamp course \"Time Series Analysis in Python\" to forecast this tree's size exactly two years into the future. Unfortunately since we aren't covering ARIMA models until later in the course, we won't be able to:\n",
    "\n",
    "1. Ascertain the appropriateness of using an AR(2) model. Ex: are all assumptions met?\n",
    "1. Fully interpret the model output's meaning\n",
    "1. Diagnose any issues. \n",
    "\n",
    "However, we will simply view this code as a minimally viable product that we will improve on later. Instructions:\n",
    "1. Fit an appropriate AR(2) model\n",
    "1. Print the summary of the result\n",
    "1. Plot the TS data along with both in-sample fitted forecasts AND out-of-sample forecasts exactly two years into the future\n",
    "1. Comment on the quality of the out-of-sample forecast. If you have any ideas on how to improve the forecast state them, if not no problem."
   ]
  },
  {
   "cell_type": "code",
   "execution_count": null,
   "id": "5ced6d7e",
   "metadata": {},
   "outputs": [],
   "source": []
  }
 ],
 "metadata": {
  "colab": {
   "include_colab_link": true,
   "provenance": []
  },
  "kernelspec": {
   "display_name": "Python 3 (ipykernel)",
   "language": "python",
   "name": "python3"
  },
  "language_info": {
   "codemirror_mode": {
    "name": "ipython",
    "version": 3
   },
   "file_extension": ".py",
   "mimetype": "text/x-python",
   "name": "python",
   "nbconvert_exporter": "python",
   "pygments_lexer": "ipython3",
   "version": "3.9.13"
  }
 },
 "nbformat": 4,
 "nbformat_minor": 5
}
