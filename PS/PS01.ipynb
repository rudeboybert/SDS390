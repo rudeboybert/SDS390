{
 "cells": [
  {
   "cell_type": "markdown",
   "id": "6f6444dd",
   "metadata": {},
   "source": [
    "# Problem Set 01\n",
    "1. Name:\n",
    "1. Field that you're interested in applying TS and forecasting to (ecology, econ, weather, etc): "
   ]
  },
  {
   "cell_type": "markdown",
   "id": "558f9417",
   "metadata": {},
   "source": [
    "# Obtain a CSV of time series data\n",
    "1. By whatever means, get a `.csv` file of time series data relating to any topic: ecological, financial, etc.\n",
    "1. There should be at least three variables of data\n",
    "1. If you download from the web, include a link. If you use ChatGPT, include a link to your shared search"
   ]
  },
  {
   "cell_type": "code",
   "execution_count": null,
   "id": "8b655721",
   "metadata": {},
   "outputs": [],
   "source": []
  },
  {
   "cell_type": "markdown",
   "id": "329b900f",
   "metadata": {},
   "source": [
    "# 1. Time series plots\n",
    "1. Plot the raw time series data\n",
    "1. Identify any time series patterns\n",
    "1. Identify any interesting trends insight"
   ]
  },
  {
   "cell_type": "code",
   "execution_count": null,
   "id": "c62846a8",
   "metadata": {},
   "outputs": [],
   "source": []
  },
  {
   "cell_type": "markdown",
   "id": "b89aad1a",
   "metadata": {},
   "source": [
    "# 2. Scatterplots\n",
    "1. Plot a 3x3 grid of all pairwise scatterplots\n",
    "1. Identify any interesting trends insight"
   ]
  },
  {
   "cell_type": "code",
   "execution_count": null,
   "id": "7fd18504",
   "metadata": {},
   "outputs": [],
   "source": []
  },
  {
   "cell_type": "markdown",
   "id": "366ad9de",
   "metadata": {},
   "source": [
    "# 3. Lag & autocorrelation plots\n",
    "1. Plot a lag plot of any variable of your choice to *visualize* its relationship to itself in the past. Use a maximum $k$ value of your choice\n",
    "1. Plot an autocorrelation plot of this same variable to *quantify* its relationship to itself in the past. Use a maximum $k$ value of your choice"
   ]
  },
  {
   "cell_type": "code",
   "execution_count": null,
   "id": "b6f19d29",
   "metadata": {},
   "outputs": [],
   "source": []
  }
 ],
 "metadata": {
  "kernelspec": {
   "display_name": "Python 3 (ipykernel)",
   "language": "python",
   "name": "python3"
  },
  "language_info": {
   "codemirror_mode": {
    "name": "ipython",
    "version": 3
   },
   "file_extension": ".py",
   "mimetype": "text/x-python",
   "name": "python",
   "nbconvert_exporter": "python",
   "pygments_lexer": "ipython3",
   "version": "3.9.13"
  }
 },
 "nbformat": 4,
 "nbformat_minor": 5
}
