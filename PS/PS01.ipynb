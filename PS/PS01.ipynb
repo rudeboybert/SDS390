{
  "cells": [
    {
      "cell_type": "markdown",
      "metadata": {
        "id": "view-in-github",
        "colab_type": "text"
      },
      "source": [
        "<a href=\"https://colab.research.google.com/github/rudeboybert/SDS390/blob/master/PS/PS01.ipynb\" target=\"_parent\"><img src=\"https://colab.research.google.com/assets/colab-badge.svg\" alt=\"Open In Colab\"/></a>"
      ]
    },
    {
      "cell_type": "markdown",
      "id": "6f6444dd",
      "metadata": {
        "id": "6f6444dd"
      },
      "source": [
        "# Problem Set 01\n",
        "1. Name:\n",
        "1. Field that you're interested in applying TS and forecasting to (ecology, econ, weather, etc):"
      ]
    },
    {
      "cell_type": "markdown",
      "id": "558f9417",
      "metadata": {
        "id": "558f9417"
      },
      "source": [
        "# Obtain a CSV of time series data\n",
        "1. By whatever means, get a `.csv` file of time series data relating to any topic: ecological, financial, etc.\n",
        "1. There should be at least three variables of data\n",
        "1. If you download from the web, include a link. If you use ChatGPT, include a link to your shared search"
      ]
    },
    {
      "cell_type": "code",
      "execution_count": null,
      "id": "8b655721",
      "metadata": {
        "id": "8b655721"
      },
      "outputs": [],
      "source": [
        "import pandas as pd\n",
        "import matplotlib as plt\n",
        "import requests\n",
        "import pandas as pd"
      ]
    },
    {
      "cell_type": "code",
      "execution_count": null,
      "id": "f4c5999e",
      "metadata": {
        "id": "f4c5999e"
      },
      "outputs": [],
      "source": [
        "# Code from https://chat.openai.com/share/572f7333-82a9-411f-95df-4f543fd3ae96\n",
        "\n",
        "# CoinGecko API endpoint for historical market data\n",
        "url = \"https://api.coingecko.com/api/v3/coins/bitcoin/market_chart\"\n",
        "\n",
        "# Specify the number of days to retrieve (180 days for 6 months)\n",
        "params = {\n",
        "    \"vs_currency\": \"usd\",\n",
        "    \"days\": \"180\",\n",
        "}\n",
        "\n",
        "# Send GET request to the API\n",
        "response = requests.get(url, params=params)\n",
        "\n",
        "# Get the BTC price data from the API response\n",
        "btc_price_data = response.json()[\"prices\"]\n",
        "\n",
        "# Convert the price data to a Pandas DataFrame\n",
        "df = pd.DataFrame(btc_price_data, columns=[\"Timestamp\", \"Price\"])\n",
        "\n",
        "# Convert the timestamp to datetime\n",
        "df[\"Timestamp\"] = pd.to_datetime(df[\"Timestamp\"], unit=\"ms\")\n",
        "\n",
        "# Export the DataFrame to a CSV file\n",
        "df.to_csv(\"btc_price_data.csv\", index=False)\n",
        "\n",
        "\n"
      ]
    },
    {
      "cell_type": "code",
      "execution_count": null,
      "id": "22bcd378",
      "metadata": {
        "id": "22bcd378",
        "outputId": "19fa0c81-d03c-4617-aaa0-bfff4caf5fef"
      },
      "outputs": [
        {
          "data": {
            "text/html": [
              "<div>\n",
              "<style scoped>\n",
              "    .dataframe tbody tr th:only-of-type {\n",
              "        vertical-align: middle;\n",
              "    }\n",
              "\n",
              "    .dataframe tbody tr th {\n",
              "        vertical-align: top;\n",
              "    }\n",
              "\n",
              "    .dataframe thead th {\n",
              "        text-align: right;\n",
              "    }\n",
              "</style>\n",
              "<table border=\"1\" class=\"dataframe\">\n",
              "  <thead>\n",
              "    <tr style=\"text-align: right;\">\n",
              "      <th></th>\n",
              "      <th>Timestamp</th>\n",
              "      <th>Price</th>\n",
              "    </tr>\n",
              "  </thead>\n",
              "  <tbody>\n",
              "    <tr>\n",
              "      <th>0</th>\n",
              "      <td>2023-03-31 00:00:00</td>\n",
              "      <td>28041.123080</td>\n",
              "    </tr>\n",
              "    <tr>\n",
              "      <th>1</th>\n",
              "      <td>2023-04-01 00:00:00</td>\n",
              "      <td>28516.784730</td>\n",
              "    </tr>\n",
              "    <tr>\n",
              "      <th>2</th>\n",
              "      <td>2023-04-02 00:00:00</td>\n",
              "      <td>28498.944633</td>\n",
              "    </tr>\n",
              "    <tr>\n",
              "      <th>3</th>\n",
              "      <td>2023-04-03 00:00:00</td>\n",
              "      <td>28236.508739</td>\n",
              "    </tr>\n",
              "    <tr>\n",
              "      <th>4</th>\n",
              "      <td>2023-04-04 00:00:00</td>\n",
              "      <td>27815.426531</td>\n",
              "    </tr>\n",
              "    <tr>\n",
              "      <th>...</th>\n",
              "      <td>...</td>\n",
              "      <td>...</td>\n",
              "    </tr>\n",
              "    <tr>\n",
              "      <th>176</th>\n",
              "      <td>2023-09-23 00:00:00</td>\n",
              "      <td>26572.038112</td>\n",
              "    </tr>\n",
              "    <tr>\n",
              "      <th>177</th>\n",
              "      <td>2023-09-24 00:00:00</td>\n",
              "      <td>26573.923480</td>\n",
              "    </tr>\n",
              "    <tr>\n",
              "      <th>178</th>\n",
              "      <td>2023-09-25 00:00:00</td>\n",
              "      <td>26249.562898</td>\n",
              "    </tr>\n",
              "    <tr>\n",
              "      <th>179</th>\n",
              "      <td>2023-09-26 00:00:00</td>\n",
              "      <td>26298.634678</td>\n",
              "    </tr>\n",
              "    <tr>\n",
              "      <th>180</th>\n",
              "      <td>2023-09-26 06:55:49</td>\n",
              "      <td>26270.169699</td>\n",
              "    </tr>\n",
              "  </tbody>\n",
              "</table>\n",
              "<p>181 rows × 2 columns</p>\n",
              "</div>"
            ],
            "text/plain": [
              "              Timestamp         Price\n",
              "0   2023-03-31 00:00:00  28041.123080\n",
              "1   2023-04-01 00:00:00  28516.784730\n",
              "2   2023-04-02 00:00:00  28498.944633\n",
              "3   2023-04-03 00:00:00  28236.508739\n",
              "4   2023-04-04 00:00:00  27815.426531\n",
              "..                  ...           ...\n",
              "176 2023-09-23 00:00:00  26572.038112\n",
              "177 2023-09-24 00:00:00  26573.923480\n",
              "178 2023-09-25 00:00:00  26249.562898\n",
              "179 2023-09-26 00:00:00  26298.634678\n",
              "180 2023-09-26 06:55:49  26270.169699\n",
              "\n",
              "[181 rows x 2 columns]"
            ]
          },
          "execution_count": 3,
          "metadata": {},
          "output_type": "execute_result"
        }
      ],
      "source": [
        "df"
      ]
    },
    {
      "cell_type": "code",
      "execution_count": null,
      "id": "9dbd683b",
      "metadata": {
        "id": "9dbd683b"
      },
      "outputs": [],
      "source": []
    },
    {
      "cell_type": "markdown",
      "id": "329b900f",
      "metadata": {
        "id": "329b900f"
      },
      "source": [
        "# 1. Time series plots\n",
        "1. Plot the raw time series data\n",
        "1. Identify any time series patterns\n",
        "1. Identify any interesting trends insight"
      ]
    },
    {
      "cell_type": "code",
      "execution_count": null,
      "id": "c62846a8",
      "metadata": {
        "id": "c62846a8"
      },
      "outputs": [],
      "source": []
    },
    {
      "cell_type": "markdown",
      "id": "b89aad1a",
      "metadata": {
        "id": "b89aad1a"
      },
      "source": [
        "# 2. Scatterplots\n",
        "1. Plot a 3x3 grid of all pairwise scatterplots\n",
        "1. Identify any interesting trends insight"
      ]
    },
    {
      "cell_type": "code",
      "execution_count": null,
      "id": "7fd18504",
      "metadata": {
        "id": "7fd18504"
      },
      "outputs": [],
      "source": []
    },
    {
      "cell_type": "markdown",
      "id": "366ad9de",
      "metadata": {
        "id": "366ad9de"
      },
      "source": [
        "# 3. Lag & autocorrelation plots\n",
        "1. Plot a lag plot of any variable of your choice to *visualize* its relationship to itself in the past. Use a maximum $k$ value of your choice\n",
        "1. Plot an autocorrelation plot of this same variable to *quantify* its relationship to itself in the past. Use a maximum $k$ value of your choice"
      ]
    },
    {
      "cell_type": "code",
      "execution_count": null,
      "id": "b6f19d29",
      "metadata": {
        "id": "b6f19d29"
      },
      "outputs": [],
      "source": []
    }
  ],
  "metadata": {
    "kernelspec": {
      "display_name": "Python 3 (ipykernel)",
      "language": "python",
      "name": "python3"
    },
    "language_info": {
      "codemirror_mode": {
        "name": "ipython",
        "version": 3
      },
      "file_extension": ".py",
      "mimetype": "text/x-python",
      "name": "python",
      "nbconvert_exporter": "python",
      "pygments_lexer": "ipython3",
      "version": "3.9.13"
    },
    "colab": {
      "provenance": [],
      "include_colab_link": true
    }
  },
  "nbformat": 4,
  "nbformat_minor": 5
}