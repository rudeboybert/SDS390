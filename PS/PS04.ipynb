{
 "cells": [
  {
   "cell_type": "markdown",
   "id": "afa775b8",
   "metadata": {
    "colab_type": "text",
    "id": "view-in-github"
   },
   "source": [
    "<a href=\"https://colab.research.google.com/github/rudeboybert/SDS390/blob/master/PS/PS02_albert.ipynb\" target=\"_parent\"><img src=\"https://colab.research.google.com/assets/colab-badge.svg\" alt=\"Open In Colab\"/></a>"
   ]
  },
  {
   "cell_type": "markdown",
   "id": "6f6444dd",
   "metadata": {
    "id": "6f6444dd"
   },
   "source": [
    "# Problem Set 04\n",
    "\n",
    "Instructions:\n",
    "1. Name:\n",
    "1. Create a new ChatGPT chat called \"SDS390 PS04\" that contains all the prompts you used for this problem set. **After you've completed your assignment**, click the share button and paste the URL in Markdown format [here](https://chat.openai.com/share/7b889388-3220-4005-9cba-ed1eacf28a45) (shared ChatGPT links don't auto-update with subsequent queries).\n",
    "\n",
    "Overview of this PS: You will be recreating graphs and explicitly computing values from \"FPP 7 and 8 - The forecaster's toolbox\" in python."
   ]
  },
  {
   "cell_type": "code",
   "execution_count": 142,
   "id": "8b655721",
   "metadata": {
    "id": "8b655721"
   },
   "outputs": [],
   "source": [
    "import pandas as pd\n",
    "import matplotlib.pyplot as plt\n",
    "import numpy as np"
   ]
  },
  {
   "cell_type": "markdown",
   "id": "329b900f",
   "metadata": {
    "id": "329b900f"
   },
   "source": [
    "# Load and explore data"
   ]
  },
  {
   "cell_type": "markdown",
   "id": "6e5a8c5b",
   "metadata": {},
   "source": [
    "## US Consumption\n",
    "Load and wrangle the us_consumption data set, explore the raw values, and plot the time series in an informative fashion."
   ]
  },
  {
   "cell_type": "code",
   "execution_count": null,
   "id": "f67b2695",
   "metadata": {},
   "outputs": [],
   "source": []
  },
  {
   "cell_type": "markdown",
   "id": "b348d57f",
   "metadata": {},
   "source": [
    "## Algeria Exports\n",
    "\n",
    "Load and wrangle the Algeria economy data set, explore the raw values, and plot the time series in an informative fashion."
   ]
  },
  {
   "cell_type": "code",
   "execution_count": null,
   "id": "4479f742",
   "metadata": {},
   "outputs": [],
   "source": []
  },
  {
   "cell_type": "markdown",
   "id": "df2cd1a2",
   "metadata": {},
   "source": [
    "## Australia Population\n",
    "\n",
    "Load and wrangle the Australia economy data set, explore the raw values, and plot the time series in an informative fashion."
   ]
  },
  {
   "cell_type": "code",
   "execution_count": null,
   "id": "b56cf7d1",
   "metadata": {},
   "outputs": [],
   "source": []
  },
  {
   "cell_type": "markdown",
   "id": "eadc0845",
   "metadata": {},
   "source": [
    "## Australia Tourism\n",
    "\n",
    "Load and wrangle the Australia Holidays data set, explore the raw values, and plot the time series in an informative fashion."
   ]
  },
  {
   "cell_type": "code",
   "execution_count": null,
   "id": "34c2d584",
   "metadata": {},
   "outputs": [],
   "source": []
  },
  {
   "cell_type": "markdown",
   "id": "c4759b06",
   "metadata": {},
   "source": [
    "# Time Series Regression Model\n",
    "- FPP 7.2 - Simple exponential smoothing: Recreate [Fig 7.6](https://otexts.com/fpp3/least-squares.html#fig:usfitted1)"
   ]
  },
  {
   "cell_type": "code",
   "execution_count": null,
   "id": "d398264a",
   "metadata": {},
   "outputs": [],
   "source": []
  },
  {
   "cell_type": "markdown",
   "id": "23549329",
   "metadata": {},
   "source": [
    "# Simple Exponential Smoothing\n",
    "- FPP 8.1 - Simple exponential smoothing: Recreate [Fig 8.2](https://otexts.com/fpp3/ses.html#fig:ses)\n",
    "- You only need to plot the forecasts into the future. The fitted values for observed time points is optional.\n",
    "- Do the plot without forecasting/error bands as an MVP. Optional: include the forecasting/error bands."
   ]
  },
  {
   "cell_type": "code",
   "execution_count": null,
   "id": "32d4ef1d",
   "metadata": {},
   "outputs": [],
   "source": []
  },
  {
   "cell_type": "markdown",
   "id": "6135f585",
   "metadata": {},
   "source": [
    "# Exponential smoothing with trend\n",
    "- FPP 8.2 - Exponential smoothing with trend: Recreate [Fig 8.4](https://otexts.com/fpp3/holt.html#fig:dampedtrend)\n",
    "- You only need to plot the forecasts into the future. The fitted values for observed time points is optional.\n",
    "- Do the plot without forecasting/error bands as an MVP. Optional: include the forecasting/error bands.\n",
    "- Optional: include a dampening effect (parameter $\\phi$ from Lec 12.1) "
   ]
  },
  {
   "cell_type": "code",
   "execution_count": null,
   "id": "d6aa2060",
   "metadata": {},
   "outputs": [],
   "source": []
  },
  {
   "cell_type": "markdown",
   "id": "396dbbc2",
   "metadata": {},
   "source": [
    "# Exponential smoothing with seasonality\n",
    "- FPP 8.3 - Exponential smoothing with seasonality: Recreate [Fig 8.7](https://otexts.com/fpp3/holt-winters.html#fig:7-HW)\n",
    "- You only need to plot the forecasts into the future. The fitted values for observed time points is optional.\n",
    "- Include only the additive model\n",
    "- Do the plot without forecasting/error bands as an MVP. Optional: include the forecasting/error bands."
   ]
  },
  {
   "cell_type": "code",
   "execution_count": null,
   "id": "3fcf205f",
   "metadata": {},
   "outputs": [],
   "source": []
  }
 ],
 "metadata": {
  "colab": {
   "include_colab_link": true,
   "provenance": []
  },
  "kernelspec": {
   "display_name": "Python 3 (ipykernel)",
   "language": "python",
   "name": "python3"
  },
  "language_info": {
   "codemirror_mode": {
    "name": "ipython",
    "version": 3
   },
   "file_extension": ".py",
   "mimetype": "text/x-python",
   "name": "python",
   "nbconvert_exporter": "python",
   "pygments_lexer": "ipython3",
   "version": "3.9.13"
  }
 },
 "nbformat": 4,
 "nbformat_minor": 5
}
