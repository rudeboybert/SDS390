{
 "cells": [
  {
   "cell_type": "markdown",
   "id": "558f9417",
   "metadata": {},
   "source": [
    "# Obtain a CSV of time series data\n",
    "1. By whatever means, get a `.csv` file of time series data relating to any topic: ecological, financial, etc.\n",
    "1. There should be at least three variables of data\n",
    "1. If you download from the web, include a link. If you use ChatGPT, include a link to your shared search"
   ]
  },
  {
   "cell_type": "code",
   "execution_count": null,
   "id": "8b655721",
   "metadata": {},
   "outputs": [],
   "source": []
  },
  {
   "cell_type": "markdown",
   "id": "329b900f",
   "metadata": {},
   "source": [
    "# 1. Time series plots\n",
    "1. Plot the raw time series data\n",
    "1. Identify any time series patterns\n",
    "1. Identify any interesting trends insight"
   ]
  },
  {
   "cell_type": "code",
   "execution_count": null,
   "id": "c62846a8",
   "metadata": {},
   "outputs": [],
   "source": []
  },
  {
   "cell_type": "markdown",
   "id": "b89aad1a",
   "metadata": {},
   "source": [
    "# 2. Scatterplots\n",
    "1. Plot a 3x3 grid of all pairwise scatterplots\n",
    "1. Identify any interesting trends insight"
   ]
  },
  {
   "cell_type": "code",
   "execution_count": null,
   "id": "7fd18504",
   "metadata": {},
   "outputs": [],
   "source": []
  },
  {
   "cell_type": "code",
   "execution_count": null,
   "id": "3d33bfd1",
   "metadata": {},
   "outputs": [],
   "source": []
  }
 ],
 "metadata": {
  "kernelspec": {
   "display_name": "Python 3 (ipykernel)",
   "language": "python",
   "name": "python3"
  },
  "language_info": {
   "codemirror_mode": {
    "name": "ipython",
    "version": 3
   },
   "file_extension": ".py",
   "mimetype": "text/x-python",
   "name": "python",
   "nbconvert_exporter": "python",
   "pygments_lexer": "ipython3",
   "version": "3.9.13"
  }
 },
 "nbformat": 4,
 "nbformat_minor": 5
}
