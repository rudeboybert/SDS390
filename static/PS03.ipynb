{
 "cells": [
  {
   "cell_type": "markdown",
   "id": "afa775b8",
   "metadata": {
    "colab_type": "text",
    "id": "view-in-github"
   },
   "source": [
    "<a href=\"https://colab.research.google.com/github/rudeboybert/SDS390/blob/master/PS/PS02_albert.ipynb\" target=\"_parent\"><img src=\"https://colab.research.google.com/assets/colab-badge.svg\" alt=\"Open In Colab\"/></a>"
   ]
  },
  {
   "cell_type": "markdown",
   "id": "6f6444dd",
   "metadata": {
    "id": "6f6444dd"
   },
   "source": [
    "# Problem Set 03\n",
    "\n",
    "Instructions:\n",
    "1. Name:\n",
    "1. Create a new ChatGPT chat called \"SDS390 PS03\" that contains all the prompts you used for this problem set. **After you've completed your assignment**, click the share button and paste the URL in Markdown format [here](https://chat.openai.com/share/7b889388-3220-4005-9cba-ed1eacf28a45) (shared ChatGPT links don't auto-update with subsequent queries).\n",
    "\n",
    "Overview of this PS: You will be recreating graphs and explicitly computing values from \"FPP 5 - The forecaster's toolbox\" in python. Specifically\n",
    "\n",
    "1. FPP 5.2 - Some simple forecasting methods: Recreate Fig 5.7 \n",
    "2. FPP 5.4 - Residual diagnostics: Recreate the 3 components of Fig 5.13\n",
    "3. FPP 5.8 - Evaluating point forecast accuracy: Recompute 4 RMSE values in table using data wrangling\n",
    "4. ~~FPP 5.7 - Forecasting with decomposition: Recreate Fig 5.19 by computing all values using data wrangling~~\n",
    "\n",
    "Overall instructions:\n",
    "\n",
    "- Do not use a function from a specialized time series forecasting specific python library to do this PS. Rather use pandas data wrangling, matplotlib, or any other package we've used to date (like for autocorrelation functions)\n",
    "- Depending on your data wrangling approach for the questions below, you *may* get a warning that says \"A value is trying to be set on a copy of a slice from a DataFrame.\" As long as your values are correct, you may ignore this warning\n",
    "- Using the lessons you learned in the 3rd DataCamp on Data Viz, Chapters 1 and 2:\n",
    "    - Give all your plots titles\n",
    "    - Label all axes\n",
    "    - Make any other cosmetic changes you like\n"
   ]
  },
  {
   "cell_type": "code",
   "execution_count": 94,
   "id": "8b655721",
   "metadata": {
    "id": "8b655721"
   },
   "outputs": [],
   "source": [
    "import pandas as pd\n",
    "import matplotlib.pyplot as plt"
   ]
  },
  {
   "cell_type": "markdown",
   "id": "329b900f",
   "metadata": {
    "id": "329b900f"
   },
   "source": [
    "# Load and explore data"
   ]
  },
  {
   "cell_type": "code",
   "execution_count": 95,
   "id": "4479f742",
   "metadata": {},
   "outputs": [
    {
     "name": "stdout",
     "output_type": "stream",
     "text": [
      "            Beer\n",
      "Quarter         \n",
      "1992-01-01   443\n",
      "1992-04-01   410\n",
      "1992-07-01   420\n",
      "1992-10-01   532\n",
      "1993-01-01   433\n",
      "\n",
      "\n",
      "            Beer\n",
      "Quarter         \n",
      "2009-04-01   398\n",
      "2009-07-01   419\n",
      "2009-10-01   488\n",
      "2010-01-01   414\n",
      "2010-04-01   374\n"
     ]
    }
   ],
   "source": [
    "aus_production = pd.read_csv(\"PS03_aus_production.csv\", parse_dates = ['Quarter'], index_col = 'Quarter')\n",
    "# aus_production = aus_production.to_period('Q')\n",
    "print(aus_production.head())\n",
    "print(\"\\n\")\n",
    "print(aus_production.tail())"
   ]
  },
  {
   "cell_type": "markdown",
   "id": "a10cdfc2",
   "metadata": {},
   "source": [
    "# FPP 5.2: Recreate Fig 5.7\n",
    "\n",
    "- Recall from Lec 7.2 this requires training (1992 Q1 - 2006 Q4) vs test set (2007 Q1 - 2010 Q2) splitting of data"
   ]
  },
  {
   "cell_type": "code",
   "execution_count": null,
   "id": "917732a9",
   "metadata": {},
   "outputs": [],
   "source": []
  },
  {
   "cell_type": "markdown",
   "id": "b89aad1a",
   "metadata": {
    "id": "b89aad1a"
   },
   "source": [
    "# FPP 5.4 - Residual diagnostics: Recreate the 3 components of Fig 5.13\n",
    "\n",
    "- Compute the three residuals diagnostics plot in Fig 5.13 for the naive method forecasts\n",
    "- Do this for the training data in the Beer data above. This is because when doing a residual diagnostic of a model, you want to compare observed values $y_t$ and fitted / predicted / forecasted values $\\hat{y}_t$ for the data you used to fit the model.\n",
    "- It's already obvious that there are much better choices than the naive method for forecasting. For each of the three residual diagnostics plots:\n",
    "    - Comment on the residuals pattern you observe\n",
    "    - Explain why the pattern you observe is consistent with the fact that there are much better choices than the naive method for forecasting\n",
    "\n"
   ]
  },
  {
   "cell_type": "code",
   "execution_count": null,
   "id": "718a16df",
   "metadata": {},
   "outputs": [],
   "source": []
  },
  {
   "cell_type": "markdown",
   "id": "a264cd17",
   "metadata": {},
   "source": [
    "# FPP 5.8 - Evaluating point forecast accuracy: Recompute RMSE and MAE values in table using data wrangling\n",
    "\n",
    "For the three forecasting methods above, compute the:\n",
    "\n",
    "- Root mean squared error\n",
    "- Mean absolute error\n",
    "\n",
    "which gives a single numerical measure of the overall error of the model. \n",
    "\n",
    "Note that the table in FPP 5.8 uses a slightly different training set 1992 Q1 - 2007 Q4, instead of 1992 Q1 - 2006 Q4, so you will get slightly different error values, but they should still be close."
   ]
  },
  {
   "cell_type": "code",
   "execution_count": null,
   "id": "18dd7987",
   "metadata": {},
   "outputs": [],
   "source": []
  },
  {
   "cell_type": "markdown",
   "id": "769e1bea",
   "metadata": {},
   "source": [
    "# ~~FPP 5.7 - Forecasting with decomposition: Recreate Fig 5.19 by computing all values using data wrangling~~\n",
    "\n",
    "I didn't have time to scaffold this question appropriately."
   ]
  },
  {
   "cell_type": "code",
   "execution_count": null,
   "id": "a13a200a",
   "metadata": {},
   "outputs": [],
   "source": []
  }
 ],
 "metadata": {
  "colab": {
   "include_colab_link": true,
   "provenance": []
  },
  "kernelspec": {
   "display_name": "Python 3 (ipykernel)",
   "language": "python",
   "name": "python3"
  },
  "language_info": {
   "codemirror_mode": {
    "name": "ipython",
    "version": 3
   },
   "file_extension": ".py",
   "mimetype": "text/x-python",
   "name": "python",
   "nbconvert_exporter": "python",
   "pygments_lexer": "ipython3",
   "version": "3.9.13"
  }
 },
 "nbformat": 4,
 "nbformat_minor": 5
}
